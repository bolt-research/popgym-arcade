{
 "cells": [
  {
   "cell_type": "code",
   "id": "initial_id",
   "metadata": {
    "collapsed": true,
    "ExecuteTime": {
     "end_time": "2025-03-16T14:02:41.790333Z",
     "start_time": "2025-03-16T14:02:41.746847Z"
    }
   },
   "source": [
    "import jax\n",
    "import equinox as eqx\n",
    "from popgym_arcade.baselines.model.builder import QNetworkRNN, QNetwork\n",
    "\n",
    "model = QNetworkRNN(jax.random.PRNGKey(0), 128, rnn_type=\"gru\")\n",
    "model2 = QNetwork(jax.random.PRNGKey(1), 128)\n",
    "params1 = eqx.filter(model, eqx.is_array)\n",
    "params2 = eqx.filter(model2, eqx.is_array)\n",
    "\n",
    "total_params1 = sum(x.size for x in jax.tree_util.tree_leaves(params1))\n",
    "\n",
    "total_params2 = sum(x.size for x in jax.tree_util.tree_leaves(params2))\n",
    "print(total_params1, total_params2)"
   ],
   "outputs": [
    {
     "name": "stdout",
     "output_type": "stream",
     "text": [
      "4577413 2743429\n"
     ]
    }
   ],
   "execution_count": 13
  },
  {
   "metadata": {
    "ExecuteTime": {
     "end_time": "2025-03-16T13:27:11.078862Z",
     "start_time": "2025-03-16T13:27:11.070701Z"
    }
   },
   "cell_type": "code",
   "source": "print(512 * 512 * 2 + 512 * 256 + 704901)",
   "id": "dff7920df026e1e2",
   "outputs": [
    {
     "name": "stdout",
     "output_type": "stream",
     "text": [
      "1360261\n"
     ]
    }
   ],
   "execution_count": 9
  }
 ],
 "metadata": {
  "kernelspec": {
   "display_name": "Python 3",
   "language": "python",
   "name": "python3"
  },
  "language_info": {
   "codemirror_mode": {
    "name": "ipython",
    "version": 2
   },
   "file_extension": ".py",
   "mimetype": "text/x-python",
   "name": "python",
   "nbconvert_exporter": "python",
   "pygments_lexer": "ipython2",
   "version": "2.7.6"
  }
 },
 "nbformat": 4,
 "nbformat_minor": 5
}
