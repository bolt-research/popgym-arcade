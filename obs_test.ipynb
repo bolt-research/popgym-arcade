{
 "cells": [
  {
   "metadata": {
    "ExecuteTime": {
     "end_time": "2025-03-15T07:56:31.427887Z",
     "start_time": "2025-03-15T07:56:31.359387Z"
    }
   },
   "cell_type": "code",
   "source": [
    "import jax.numpy as jnp\n",
    "import jax\n",
    "import jax.numpy as jnp\n",
    "\n",
    "@jax.jit\n",
    "def nearest_neighbor_resize(image):\n",
    "    # 原图与目标尺寸\n",
    "    src_h, src_w, _ = image.shape\n",
    "    dst_h, dst_w = 64, 64\n",
    "\n",
    "    # 计算坐标映射关系 (使用像素中心对齐)\n",
    "    x = (jnp.arange(dst_w) + 0.5) * (src_w / dst_w) - 0.5\n",
    "    y = (jnp.arange(dst_h) + 0.5) * (src_h / dst_h) - 0.5\n",
    "\n",
    "    # 生成网格并四舍五入取整\n",
    "    x_idx = jnp.round(x).astype(jnp.int32)\n",
    "    y_idx = jnp.round(y).astype(jnp.int32)\n",
    "\n",
    "    # 边界约束\n",
    "    x_idx = jnp.clip(x_idx, 0, src_w-1)\n",
    "    y_idx = jnp.clip(y_idx, 0, src_h-1)\n",
    "\n",
    "    # 使用高级索引获取目标像素\n",
    "    return image[x_idx[:, None], y_idx, :]\n",
    "\n",
    "# 使用示例\n",
    "# resized_image = nearest_neighbor_resize(original_image)\n",
    "\n",
    "image = jnp.ones((256, 256, 3))\n",
    "image2 = nearest_neighbor_resize(image)\n",
    "print(image2.shape)"
   ],
   "id": "1325d7272eefbcab",
   "outputs": [
    {
     "name": "stdout",
     "output_type": "stream",
     "text": [
      "(64, 64, 3)\n"
     ]
    }
   ],
   "execution_count": 2
  },
  {
   "cell_type": "code",
   "id": "initial_id",
   "metadata": {
    "collapsed": true,
    "ExecuteTime": {
     "end_time": "2025-03-15T07:56:26.566742Z",
     "start_time": "2025-03-15T07:56:22.573835Z"
    }
   },
   "source": [
    "import popgym_arcade\n",
    "import jax\n",
    "from matplotlib import pyplot as plt\n",
    "\n",
    "# Create both POMDP and MDP env variants\n",
    "pomdp, pomdp_params = popgym_arcade.make(\"CartPoleEasy\", partial_obs=True, obs_size=128)\n",
    "mdp, mdp_params = popgym_arcade.make(\"CartPoleEasy\", partial_obs=False, obs_size=128)\n",
    "\n",
    "# Let's vectorize and compile the envs\n",
    "# Note when you are training a policy, it is better to compile your policy_update rather than the env_step\n",
    "pomdp_reset = jax.jit(jax.vmap(pomdp.reset, in_axes=(0, None)))\n",
    "pomdp_step = jax.jit(jax.vmap(pomdp.step, in_axes=(0, 0, 0, None)))\n",
    "mdp_reset = jax.jit(jax.vmap(mdp.reset, in_axes=(0, None)))\n",
    "mdp_step = jax.jit(jax.vmap(mdp.step, in_axes=(0, 0, 0, None)))\n",
    "\n",
    "# Initialize four vectorized environments\n",
    "n_envs = 4\n",
    "# Initialize PRNG keys\n",
    "key = jax.random.key(0)\n",
    "reset_keys = jax.random.split(key, n_envs)\n",
    "\n",
    "# Reset environments\n",
    "observation, env_state = mdp_reset(reset_keys, pomdp_params)\n",
    "\n",
    "# Step the POMDPs\n",
    "for t in range(2):\n",
    "    # Propagate some randomness\n",
    "    action_key, step_key = jax.random.split(jax.random.key(t))\n",
    "    action_keys = jax.random.split(action_key, n_envs)\n",
    "    step_keys = jax.random.split(step_key, n_envs)\n",
    "    # Pick actions at random\n",
    "    actions = jax.vmap(pomdp.action_space(pomdp_params).sample)(action_keys)\n",
    "    # Step the env to the next state\n",
    "    # No need to reset, gymnax automatically resets when done\n",
    "    observation, env_state, reward, done, info = mdp_step(step_keys, env_state, actions, pomdp_params)\n",
    "    plt.axis('off')\n",
    "    plt.imshow(observation[0])\n",
    "    plt.show()\n",
    "\n",
    "\n",
    "\n",
    "# POMDP and MDP variants share states\n",
    "# We can plug the POMDP states into the MDP and continue playing\n",
    "action_keys = jax.random.split(jax.random.key(t + 1), n_envs)\n",
    "step_keys = jax.random.split(jax.random.key(t + 2), n_envs)\n",
    "markov_state, env_state, reward, done, info = mdp_step(step_keys, env_state, actions, mdp_params)"
   ],
   "outputs": [
    {
     "name": "stderr",
     "output_type": "stream",
     "text": [
      "/Users/zeka/anaconda3/envs/rl_dev/lib/python3.10/site-packages/jax/_src/numpy/array_methods.py:121: UserWarning: Explicitly requested dtype <class 'jax.numpy.int64'> requested in astype is not available, and will be truncated to dtype int32. To enable more dtypes, set the jax_enable_x64 configuration option or the JAX_ENABLE_X64 shell environment variable. See https://github.com/jax-ml/jax#current-gotchas for more.\n",
      "  return lax_numpy.astype(self, dtype, copy=copy, device=device)\n",
      "Clipping input data to the valid range for imshow with RGB data ([0..1] for floats or [0..255] for integers). Got range [0.0..2.06].\n"
     ]
    },
    {
     "data": {
      "text/plain": [
       "<Figure size 640x480 with 1 Axes>"
      ],
      "image/png": "[encoded data removed]"
     },
     "metadata": {},
     "output_type": "display_data"
    },
    {
     "name": "stderr",
     "output_type": "stream",
     "text": [
      "Clipping input data to the valid range for imshow with RGB data ([0..1] for floats or [0..255] for integers). Got range [0.0..2.06].\n"
     ]
    },
    {
     "data": {
      "text/plain": [
       "<Figure size 640x480 with 1 Axes>"
      ],
      "image/png": "[encoded data removed]"
     },
     "metadata": {},
     "output_type": "display_data"
    }
   ],
   "execution_count": 1
  },
  {
   "metadata": {
    "ExecuteTime": {
     "end_time": "2025-03-15T05:53:52.589720Z",
     "start_time": "2025-03-15T05:53:52.585441Z"
    }
   },
   "cell_type": "code",
   "source": "print(12 * 2 * 3.14 / 360)\n",
   "id": "46e93301af234949",
   "outputs": [
    {
     "name": "stdout",
     "output_type": "stream",
     "text": [
      "0.20933333333333334\n"
     ]
    }
   ],
   "execution_count": 2
  }
 ],
 "metadata": {
  "kernelspec": {
   "display_name": "Python 3",
   "language": "python",
   "name": "python3"
  },
  "language_info": {
   "codemirror_mode": {
    "name": "ipython",
    "version": 2
   },
   "file_extension": ".py",
   "mimetype": "text/x-python",
   "name": "python",
   "nbconvert_exporter": "python",
   "pygments_lexer": "ipython2",
   "version": "2.7.6"
  }
 },
 "nbformat": 4,
 "nbformat_minor": 5
}
